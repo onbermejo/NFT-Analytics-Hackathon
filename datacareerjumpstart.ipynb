{
  "nbformat": 4,
  "nbformat_minor": 0,
  "metadata": {
    "colab": {
      "name": "datacareerjumpstart.ipynb",
      "provenance": [],
      "toc_visible": true
    },
    "kernelspec": {
      "name": "python3",
      "display_name": "Python 3"
    },
    "language_info": {
      "name": "python"
    }
  },
  "cells": [
    {
      "cell_type": "markdown",
      "source": [
        "# 1.- Libraries"
      ],
      "metadata": {
        "id": "Rau--l97oZvb"
      }
    },
    {
      "cell_type": "code",
      "source": [
        "import datetime\n",
        "import numpy as np\n",
        "import pandas as pd\n",
        "import seaborn as sns\n",
        "import matplotlib.pyplot as plt\n",
        "import warnings\n",
        "warnings.filterwarnings('ignore')"
      ],
      "metadata": {
        "id": "RVo2SUbXocqO"
      },
      "execution_count": null,
      "outputs": []
    },
    {
      "cell_type": "code",
      "source": [
        "plt.rcParams['figure.figsize'] = (10, 7.5)\n",
        "plt.rcParams['axes.grid'] = False"
      ],
      "metadata": {
        "id": "db4w6QX8oi_F"
      },
      "execution_count": null,
      "outputs": []
    },
    {
      "cell_type": "markdown",
      "source": [
        "# 2.- Datasets & cleaning"
      ],
      "metadata": {
        "id": "V5gcNf9Wowj1"
      }
    },
    {
      "cell_type": "code",
      "source": [
        "from google.colab import drive\n",
        "drive.mount('/content/drive')"
      ],
      "metadata": {
        "id": "qux9BNzRouY5"
      },
      "execution_count": null,
      "outputs": []
    },
    {
      "cell_type": "markdown",
      "source": [
        "## 2.1 Azuki"
      ],
      "metadata": {
        "id": "3tW4nEhF9d_z"
      }
    },
    {
      "cell_type": "markdown",
      "source": [
        "### 2.1.1 Cleaning Sales"
      ],
      "metadata": {
        "id": "SY7Gk5EG-fZU"
      }
    },
    {
      "cell_type": "code",
      "source": [
        "df_azuki_sales = pd.read_csv('/content/drive/MyDrive/Hackathon/csv/azuki/sales_0xED5AF388653567Af2F388E6224dC7C4b3241C544_azuki.csv' ,sep=',')\n",
        "df_azuki_sales.head()"
      ],
      "metadata": {
        "id": "SKS0l_r6o2kd"
      },
      "execution_count": null,
      "outputs": []
    },
    {
      "cell_type": "code",
      "source": [
        "print(\"rows {}\".format(df_azuki_sales.shape[0]))\n",
        "print(\"Columns {}\".format(df_azuki_sales.shape[1]))"
      ],
      "metadata": {
        "id": "oBdXNOfdqq4M"
      },
      "execution_count": null,
      "outputs": []
    },
    {
      "cell_type": "code",
      "source": [
        "df_azuki_sales.info()"
      ],
      "metadata": {
        "id": "ctwfd8JSrKrf"
      },
      "execution_count": null,
      "outputs": []
    },
    {
      "cell_type": "code",
      "source": [
        "df_azuki_sales.isnull().sum()"
      ],
      "metadata": {
        "id": "Mqa4lurLq7W-"
      },
      "execution_count": null,
      "outputs": []
    },
    {
      "cell_type": "code",
      "source": [
        "drop_cols = ['transaction_hash', 'block_number', 'maker', 'taker']\n",
        "df_azuki_sales = df_azuki_sales.drop(drop_cols, axis=1)"
      ],
      "metadata": {
        "id": "93ofpU_DuDqz"
      },
      "execution_count": null,
      "outputs": []
    },
    {
      "cell_type": "code",
      "source": [
        "df_azuki_sales.isnull().sum()"
      ],
      "metadata": {
        "id": "lKKsuYgNuSZ8"
      },
      "execution_count": null,
      "outputs": []
    },
    {
      "cell_type": "code",
      "source": [
        "df_azuki_sales['year'] = pd.DatetimeIndex(df_azuki_sales['date']).year\n",
        "df_azuki_sales.head()"
      ],
      "metadata": {
        "id": "BHBxmtAv1AB1"
      },
      "execution_count": null,
      "outputs": []
    },
    {
      "cell_type": "code",
      "source": [
        "df_azuki_sales['chain'] = 'eth'\n",
        "df_azuki_sales.head()"
      ],
      "metadata": {
        "id": "3xUT_w8b2nYC"
      },
      "execution_count": null,
      "outputs": []
    },
    {
      "cell_type": "code",
      "source": [
        "df_azuki_sales['nft'] = 'azuki'\n",
        "df_azuki_sales.head()"
      ],
      "metadata": {
        "id": "XhzxnHsHAItb"
      },
      "execution_count": null,
      "outputs": []
    },
    {
      "cell_type": "markdown",
      "source": [
        "## 2.2 Bored APE"
      ],
      "metadata": {
        "id": "ER0FnBic-sOQ"
      }
    },
    {
      "cell_type": "markdown",
      "source": [
        "### 2.2.1 Cleaning sales\n"
      ],
      "metadata": {
        "id": "ynHJK4iq-sOc"
      }
    },
    {
      "cell_type": "code",
      "source": [
        "df_boredape_sales = pd.read_csv('/content/drive/MyDrive/Hackathon/csv/boredape/sales_0xBC4CA0EdA7647A8aB7C2061c2E118A18a936f13D_boredape.csv' ,sep=',')\n",
        "df_boredape_sales.head()"
      ],
      "metadata": {
        "id": "BcuR24zr-sOc"
      },
      "execution_count": null,
      "outputs": []
    },
    {
      "cell_type": "code",
      "source": [
        "print(\"rows {}\".format(df_boredape_sales.shape[0]))\n",
        "print(\"Columns {}\".format(df_boredape_sales.shape[1]))"
      ],
      "metadata": {
        "id": "tUHl2rUm-sOd"
      },
      "execution_count": null,
      "outputs": []
    },
    {
      "cell_type": "code",
      "source": [
        "df_boredape_sales.info()"
      ],
      "metadata": {
        "id": "Ums3P7RM-sOd"
      },
      "execution_count": null,
      "outputs": []
    },
    {
      "cell_type": "code",
      "source": [
        "df_boredape_sales.isnull().sum()"
      ],
      "metadata": {
        "id": "1gWydOUx-sOd"
      },
      "execution_count": null,
      "outputs": []
    },
    {
      "cell_type": "code",
      "source": [
        "drop_cols = ['transaction_hash', 'block_number', 'maker', 'taker']\n",
        "df_boredape_sales = df_boredape_sales.drop(drop_cols, axis=1)"
      ],
      "metadata": {
        "id": "LY_c8To5-sOe"
      },
      "execution_count": null,
      "outputs": []
    },
    {
      "cell_type": "code",
      "source": [
        "df_boredape_sales.isnull().sum()"
      ],
      "metadata": {
        "id": "-Kgile4t-sOe"
      },
      "execution_count": null,
      "outputs": []
    },
    {
      "cell_type": "code",
      "source": [
        "df_boredape_sales['year'] = pd.DatetimeIndex(df_boredape_sales['date']).year\n",
        "df_boredape_sales.head()"
      ],
      "metadata": {
        "id": "MszM25dS-sOe"
      },
      "execution_count": null,
      "outputs": []
    },
    {
      "cell_type": "code",
      "source": [
        "df_boredape_sales['chain'] = 'eth'\n",
        "df_boredape_sales.head()"
      ],
      "metadata": {
        "id": "CI6z7tAi-sOe"
      },
      "execution_count": null,
      "outputs": []
    },
    {
      "cell_type": "code",
      "source": [
        "df_boredape_sales['nft'] = 'boredape'\n",
        "df_boredape_sales.head()"
      ],
      "metadata": {
        "id": "vSsiH3z9-sOe"
      },
      "execution_count": null,
      "outputs": []
    },
    {
      "cell_type": "markdown",
      "source": [
        "## 2.3 Doodles"
      ],
      "metadata": {
        "id": "fp3GXLIK_YZv"
      }
    },
    {
      "cell_type": "markdown",
      "source": [
        "### 2.3.1 Cleaning sales\n"
      ],
      "metadata": {
        "id": "fA7oeMqG_YZ8"
      }
    },
    {
      "cell_type": "code",
      "source": [
        "df_doodles_sales = pd.read_csv('/content/drive/MyDrive/Hackathon/csv/doodles/sales_0x8a90CAb2b38dba80c64b7734e58Ee1dB38B8992e_doodles.csv' ,sep=',')\n",
        "df_doodles_sales.head()"
      ],
      "metadata": {
        "id": "oBOuwICI_YZ8"
      },
      "execution_count": null,
      "outputs": []
    },
    {
      "cell_type": "code",
      "source": [
        "print(\"rows {}\".format(df_doodles_sales.shape[0]))\n",
        "print(\"Columns {}\".format(df_doodles_sales.shape[1]))"
      ],
      "metadata": {
        "id": "O14XE6Px_YZ9"
      },
      "execution_count": null,
      "outputs": []
    },
    {
      "cell_type": "code",
      "source": [
        "df_doodles_sales.info()"
      ],
      "metadata": {
        "id": "cBgbLSxQ_YZ9"
      },
      "execution_count": null,
      "outputs": []
    },
    {
      "cell_type": "code",
      "source": [
        "df_doodles_sales.isnull().sum()"
      ],
      "metadata": {
        "id": "ZRyjpK5Q_YZ9"
      },
      "execution_count": null,
      "outputs": []
    },
    {
      "cell_type": "code",
      "source": [
        "drop_cols = ['transaction_hash', 'block_number', 'maker', 'taker']\n",
        "df_doodles_sales = df_doodles_sales.drop(drop_cols, axis=1)"
      ],
      "metadata": {
        "id": "KPn488YU_YZ9"
      },
      "execution_count": null,
      "outputs": []
    },
    {
      "cell_type": "code",
      "source": [
        "df_doodles_sales.isnull().sum()"
      ],
      "metadata": {
        "id": "-y_Yvsto_YZ-"
      },
      "execution_count": null,
      "outputs": []
    },
    {
      "cell_type": "code",
      "source": [
        "df_doodles_sales['year'] = pd.DatetimeIndex(df_doodles_sales['date']).year\n",
        "df_doodles_sales.head()"
      ],
      "metadata": {
        "id": "zojdmGI4_YZ-"
      },
      "execution_count": null,
      "outputs": []
    },
    {
      "cell_type": "code",
      "source": [
        "df_doodles_sales['chain'] = 'eth'\n",
        "df_doodles_sales.head()"
      ],
      "metadata": {
        "id": "4PH7aak9_YZ-"
      },
      "execution_count": null,
      "outputs": []
    },
    {
      "cell_type": "code",
      "source": [
        "df_doodles_sales['nft'] = 'doodles'\n",
        "df_doodles_sales.head()"
      ],
      "metadata": {
        "id": "9l62qw4o_YZ-"
      },
      "execution_count": null,
      "outputs": []
    },
    {
      "cell_type": "markdown",
      "source": [
        "## 2.4 Decentraland"
      ],
      "metadata": {
        "id": "joN7t6Qq_yhz"
      }
    },
    {
      "cell_type": "markdown",
      "source": [
        "### 2.4.1 Cleaning sales\n"
      ],
      "metadata": {
        "id": "GeJGAiJm_yh1"
      }
    },
    {
      "cell_type": "code",
      "source": [
        "df_decentraland_sales = pd.read_csv('/content/drive/MyDrive/Hackathon/csv/decentraland/sales_0xF87E31492Faf9A91B02Ee0dEAAd50d51d56D5d4d_decentraland.csv' ,sep=',')\n",
        "df_decentraland_sales.head()"
      ],
      "metadata": {
        "id": "j2upX8zp_yh1"
      },
      "execution_count": null,
      "outputs": []
    },
    {
      "cell_type": "code",
      "source": [
        "print(\"rows {}\".format(df_decentraland_sales.shape[0]))\n",
        "print(\"Columns {}\".format(df_decentraland_sales.shape[1]))"
      ],
      "metadata": {
        "id": "JVAP6QSK_yh2"
      },
      "execution_count": null,
      "outputs": []
    },
    {
      "cell_type": "code",
      "source": [
        "df_decentraland_sales.info()"
      ],
      "metadata": {
        "id": "_s4B3CCc_yh3"
      },
      "execution_count": null,
      "outputs": []
    },
    {
      "cell_type": "code",
      "source": [
        "df_decentraland_sales.isnull().sum()"
      ],
      "metadata": {
        "id": "9Eq6d7xJ_yh3"
      },
      "execution_count": null,
      "outputs": []
    },
    {
      "cell_type": "code",
      "source": [
        "drop_cols = ['transaction_hash', 'block_number', 'maker', 'taker']\n",
        "df_decentraland_sales = df_decentraland_sales.drop(drop_cols, axis=1)"
      ],
      "metadata": {
        "id": "UT0bm2H__yh4"
      },
      "execution_count": null,
      "outputs": []
    },
    {
      "cell_type": "code",
      "source": [
        "df_decentraland_sales.isnull().sum()"
      ],
      "metadata": {
        "id": "9qHeKXqT_yh4"
      },
      "execution_count": null,
      "outputs": []
    },
    {
      "cell_type": "code",
      "source": [
        "df_decentraland_sales['year'] = pd.DatetimeIndex(df_decentraland_sales['date']).year\n",
        "df_decentraland_sales.head()"
      ],
      "metadata": {
        "id": "-bmGbkBj_yh5"
      },
      "execution_count": null,
      "outputs": []
    },
    {
      "cell_type": "code",
      "source": [
        "df_decentraland_sales['chain'] = 'eth'\n",
        "df_decentraland_sales.head()"
      ],
      "metadata": {
        "id": "iVghlGgB_yh5"
      },
      "execution_count": null,
      "outputs": []
    },
    {
      "cell_type": "code",
      "source": [
        "df_decentraland_sales['nft'] = 'decentraland'\n",
        "df_decentraland_sales.head()"
      ],
      "metadata": {
        "id": "JaBgwSB5_yh6"
      },
      "execution_count": null,
      "outputs": []
    },
    {
      "cell_type": "markdown",
      "source": [
        "# 3.- Combine"
      ],
      "metadata": {
        "id": "I77c8hm_GtP-"
      }
    },
    {
      "cell_type": "code",
      "source": [
        "frames = [df_azuki_sales, df_boredape_sales, df_doodles_sales, df_decentraland_sales]\n",
        "  \n",
        "result = pd.concat(frames)\n",
        "result.tail()"
      ],
      "metadata": {
        "id": "ySW2Tr25Dk4L"
      },
      "execution_count": null,
      "outputs": []
    },
    {
      "cell_type": "code",
      "source": [
        "print(\"rows {}\".format(result.shape[0]))\n",
        "print(\"Columns {}\".format(result.shape[1]))"
      ],
      "metadata": {
        "id": "M1WqqJltF8dD"
      },
      "execution_count": null,
      "outputs": []
    },
    {
      "cell_type": "markdown",
      "source": [
        "# 4.- Analysis"
      ],
      "metadata": {
        "id": "7YIJ5uZDHP7o"
      }
    },
    {
      "cell_type": "markdown",
      "source": [
        "### 4.1.- Which NFT has got more total sales?"
      ],
      "metadata": {
        "id": "4pamvZomHSx6"
      }
    },
    {
      "cell_type": "code",
      "source": [
        "plt.figure(figsize=(12, 6))\n",
        "sns.countplot(x=\"nft\", data=result, order = result['nft'].value_counts().index)\n",
        "plt.xticks(rotation=85)"
      ],
      "metadata": {
        "id": "kxuG5x42GkIJ"
      },
      "execution_count": null,
      "outputs": []
    },
    {
      "cell_type": "markdown",
      "source": [
        "### 4.2.- Which year has most total sales?"
      ],
      "metadata": {
        "id": "Dy82WsSHIZby"
      }
    },
    {
      "cell_type": "code",
      "source": [
        "plt.figure(figsize=(14, 10))\n",
        "sns.countplot(x=\"year\", data=result, order = result.groupby(by=['year'])['nft'].count().sort_values(ascending=False).index)\n",
        "plt.xticks(rotation=85)"
      ],
      "metadata": {
        "id": "QswPw7UEHbp1"
      },
      "execution_count": null,
      "outputs": []
    },
    {
      "cell_type": "markdown",
      "source": [
        "### 4.3.- Which NFT has got more total sales per year"
      ],
      "metadata": {
        "id": "SVTuZR8oI_56"
      }
    },
    {
      "cell_type": "code",
      "source": [
        "plt.figure(figsize=(30, 10))\n",
        "sns.countplot(x=\"year\", data=result, hue='nft', order=result.year.value_counts().iloc[:5].index)\n",
        "plt.xticks(size=16, rotation=85)"
      ],
      "metadata": {
        "id": "eh2vCiO-IUmA"
      },
      "execution_count": null,
      "outputs": []
    },
    {
      "cell_type": "markdown",
      "source": [
        "### 4.4.- Which year got more ETH sales"
      ],
      "metadata": {
        "id": "7fX_wHvyJkWF"
      }
    },
    {
      "cell_type": "code",
      "source": [
        "data_year = result.groupby(by=['year'])['sale_price_eth'].sum()\n",
        "data_year = data_year.reset_index()\n",
        "plt.figure(figsize=(16, 10))\n",
        "sns.barplot(x=\"year\", y=\"sale_price_eth\", data=data_year)\n",
        "plt.xticks(rotation=85)"
      ],
      "metadata": {
        "id": "z-GA1utXI7gO"
      },
      "execution_count": null,
      "outputs": []
    },
    {
      "cell_type": "markdown",
      "source": [
        "### 4.5.- Which NFT got more ETH sales"
      ],
      "metadata": {
        "id": "AEbmOD7SLJNk"
      }
    },
    {
      "cell_type": "code",
      "source": [
        "data_nft = result.groupby(by=['nft'])['sale_price_eth'].sum()\n",
        "data_nft = data_nft.reset_index()\n",
        "data_nft = data_nft.sort_values(by=['sale_price_eth'], ascending=False)"
      ],
      "metadata": {
        "id": "tPICryfXKItP"
      },
      "execution_count": null,
      "outputs": []
    },
    {
      "cell_type": "code",
      "source": [
        "plt.figure(figsize=(16, 10))\n",
        "sns.barplot(x=\"nft\", y=\"sale_price_eth\", data=data_nft)\n",
        "plt.xticks(rotation=85)"
      ],
      "metadata": {
        "id": "GvUstxdoKx4d"
      },
      "execution_count": null,
      "outputs": []
    },
    {
      "cell_type": "markdown",
      "source": [
        "### 4.6.- Top 20 buyers"
      ],
      "metadata": {
        "id": "-0p15yIZLija"
      }
    },
    {
      "cell_type": "code",
      "source": [
        "top_buyer = result.groupby(by=['buyer'])['year'].count().sort_values(ascending=False).head(20)\n",
        "top_buyer = pd.DataFrame(top_buyer).reset_index()"
      ],
      "metadata": {
        "id": "G1GRBDVXK3Rz"
      },
      "execution_count": null,
      "outputs": []
    },
    {
      "cell_type": "code",
      "source": [
        "plt.figure(figsize=(16, 10))\n",
        "sns.countplot(x=\"buyer\", data=result, order = result.groupby(by=['buyer'])['year'].count().sort_values(ascending=False).iloc[:20].index)\n",
        "plt.xticks(rotation=85)"
      ],
      "metadata": {
        "id": "y_XbhFqHLzj-"
      },
      "execution_count": null,
      "outputs": []
    },
    {
      "cell_type": "markdown",
      "source": [
        "### 4.7.- Top buyers per YEAR"
      ],
      "metadata": {
        "id": "T78j3Mv8NHfg"
      }
    },
    {
      "cell_type": "code",
      "source": [
        "top_buyer_year =  result[['year', 'buyer']]\n",
        "top_buyer_year_df = top_buyer_year.groupby(by=['year', 'buyer']).size().reset_index(name='Count')\n",
        "top_buyer_year_idx =  top_buyer_year_df.groupby(by=['year'])['Count'].transform(max) == top_buyer_year_df['Count']\n",
        "top_buyer_year_count = top_buyer_year_df[top_buyer_year_idx].reset_index(drop=True)\n",
        "top_buyer_year_count  = top_buyer_year_count.drop_duplicates(subset=[\"year\", \"Count\"], keep='last').reset_index(drop=True)\n",
        "buyer= top_buyer_year_count['buyer']"
      ],
      "metadata": {
        "id": "QUBw8vEuL0up"
      },
      "execution_count": null,
      "outputs": []
    },
    {
      "cell_type": "code",
      "source": [
        "plt.figure(figsize=(30, 15))\n",
        "g = sns.barplot(x='year', y='Count', data=top_buyer_year_count)\n",
        "index = 0\n",
        "for value in top_buyer_year_count['Count'].values:\n",
        "    g.text(index, value + 5, str(buyer[index] + '(' +str(value)+')'), color='#000', size=15, rotation= 85, ha=\"center\")\n",
        "    index += 1"
      ],
      "metadata": {
        "id": "NjcAOLxeOTtB"
      },
      "execution_count": null,
      "outputs": []
    },
    {
      "cell_type": "code",
      "source": [
        ""
      ],
      "metadata": {
        "id": "rEgPMPmCLrAk"
      },
      "execution_count": null,
      "outputs": []
    }
  ]
}